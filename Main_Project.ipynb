{
 "cells": [
  {
   "cell_type": "code",
   "execution_count": null,
   "id": "050e2fcc-9217-4406-b388-2f3e2b583ef5",
   "metadata": {},
   "outputs": [],
   "source": [
    "import cv2\n",
    "import numpy as np\n",
    "\n",
    "# Load the four images to be fused\n",
    "img1 = cv2.imread(\"E:/S4/Project/Main Project/images/1.jpeg\")\n",
    "img2 = cv2.imread(\"E:/S4/Project/Main Project/images/2.jpeg\")\n",
    "img3 = cv2.imread(\"E:/S4/Project/Main Project/images/3.jpeg\")\n",
    "img4 = cv2.imread(\"E:/S4/Project/Main Project/images/4.jpeg\")\n",
    "\n",
    "# Resize the images to the same size\n",
    "img1 = cv2.resize(img1, (680, 400),interpolation=cv2.INTER_AREA)\n",
    "img2 = cv2.resize(img2, (680, 400),interpolation=cv2.INTER_AREA)\n",
    "img3 = cv2.resize(img3, (680, 400),interpolation=cv2.INTER_AREA)\n",
    "img4 = cv2.resize(img4, (680, 400),interpolation=cv2.INTER_AREA)\n",
    "\n",
    "gray1 = cv2.cvtColor(img1, cv2.COLOR_BGR2GRAY)\n",
    "gray2 = cv2.cvtColor(img2, cv2.COLOR_BGR2GRAY)\n",
    "gray3 = cv2.cvtColor(img3, cv2.COLOR_BGR2GRAY)\n",
    "gray4 = cv2.cvtColor(img4, cv2.COLOR_BGR2GRAY)\n",
    "\n",
    "fused1 = cv2.addWeighted(gray1, 0.5, gray2, 0.5, 0)\n",
    "fused2 = cv2.addWeighted(gray3, 0.5, gray4, 0.5, 0)\n",
    "\n",
    "final_fused = cv2.add(fused1, fused2)\n",
    "\n",
    "cv2.imshow('final_fused.jpg', final_fused)\n",
    "cv2.imwrite('E:/S4/Project/Main Project/images/output.jpg', final_fused)\n",
    "cv2.waitKey(0)\n",
    "cv2.destroyAllWindows()"
   ]
  },
  {
   "cell_type": "code",
   "execution_count": 11,
   "id": "40cc8463-a179-4ccb-a788-18242952088f",
   "metadata": {},
   "outputs": [
    {
     "data": {
      "text/plain": [
       "True"
      ]
     },
     "execution_count": 11,
     "metadata": {},
     "output_type": "execute_result"
    }
   ],
   "source": [
    "x = final_fused.shape[1] // 2 - 50\n",
    "y = final_fused.shape[0] // 2 - 50\n",
    "width = 100\n",
    "height = 100\n",
    "effective_area = final_fused[y:y+height, x:x+width]\n",
    "N = 256\n",
    "effective_area_resized = cv2.resize(effective_area, (N, N))\n",
    "cv2.imwrite('E:/S4/Project/Main Project/images/effective_area.jpg', effective_area_resized)"
   ]
  },
  {
   "cell_type": "code",
   "execution_count": 12,
   "id": "6c7a49c8-30cc-4913-9127-96cd391a5785",
   "metadata": {},
   "outputs": [
    {
     "data": {
      "text/plain": [
       "True"
      ]
     },
     "execution_count": 12,
     "metadata": {},
     "output_type": "execute_result"
    }
   ],
   "source": [
    "import pywt\n",
    "import numpy as np\n",
    "import cv2\n",
    "\n",
    "# Load the image\n",
    "image = cv2.imread('E:/S4/Project/Main Project/images/effective_area.jpg', 0)\n",
    "\n",
    "# Define the wavelet to use (in this case, we will use the Haar wavelet)\n",
    "wavelet = pywt.Wavelet('haar')\n",
    "\n",
    "# Decompose the image using the Lifting Wavelet Transform\n",
    "coeffs = pywt.wavedec2(image, wavelet, mode='symmetric', level=1)\n",
    "\n",
    "# Extract the approximation coefficients (which correspond to the low frequency information)\n",
    "A = coeffs[0]\n",
    "\n",
    "# Save the approximation coefficients as an image\n",
    "cv2.imwrite('E:/S4/Project/Main Project/images/approximation_coefficients.jpg', A)\n"
   ]
  },
  {
   "cell_type": "code",
   "execution_count": 18,
   "id": "54ab95a1-2ff8-46b1-92ad-e59f312578e1",
   "metadata": {},
   "outputs": [],
   "source": [
    "import numpy as np\n",
    "import cv2\n",
    "\n",
    "# Load the low-frequency coefficient image\n",
    "A = cv2.imread('E:/S4/Project/Main Project/images/approximation_coefficients.jpg', 0)\n",
    "\n",
    "# Define the block size\n",
    "n = 8\n",
    "\n",
    "# Divide the image into blocks of size n x n\n",
    "blocks = [A[j:j+n, i:i+n] for (j, i) in np.ndindex(A.shape[0]//n, A.shape[1]//n)]\n",
    "\n",
    "# Apply QR decomposition to each block\n",
    "Q_blocks = []\n",
    "R_blocks = []\n",
    "for block in blocks:\n",
    "    Q, R = np.linalg.qr(block)\n",
    "    Q_blocks.append(Q)\n",
    "    R_blocks.append(R)\n",
    "\n",
    "# Save the Q and R blocks as separate images\n",
    "for i in range(len(blocks)):\n",
    "    cv2.imwrite(f'E:/S4/Project/Main Project/images/block/Q_block_{i}.jpg', Q_blocks[i])\n",
    "    cv2.imwrite(f'E:/S4/Project/Main Project/images/block/R_block_{i}.jpg', R_blocks[i])\n"
   ]
  },
  {
   "cell_type": "code",
   "execution_count": 19,
   "id": "e98fcee1-3cb5-4c33-aeca-b43898863c73",
   "metadata": {},
   "outputs": [
    {
     "name": "stdout",
     "output_type": "stream",
     "text": [
      "Original matrix:\n",
      "[[0.89269835 0.32788304 0.00227125 0.36102844]\n",
      " [0.30858679 0.36697288 0.03186704 0.60585964]\n",
      " [0.84592991 0.65732737 0.87682027 0.40692858]\n",
      " [0.11051186 0.12717982 0.24582509 0.85385711]]\n",
      "2-norm matrix:\n",
      "[[1.27277116 0.         0.         0.        ]\n",
      " [0.         0.83092139 0.         0.        ]\n",
      " [0.         0.         0.91118847 0.        ]\n",
      " [0.         0.         0.         1.17986027]]\n",
      "2-norm of the original matrix:\n",
      "1.8862917830792398\n"
     ]
    }
   ],
   "source": [
    "import numpy as np\n",
    "\n",
    "# Define the size of the matrix\n",
    "k = 4\n",
    "\n",
    "# Generate a random matrix of size k x k\n",
    "A = np.random.rand(k, k)\n",
    "\n",
    "# Compute the 2-norm of each column of the matrix\n",
    "col_norms = np.linalg.norm(A, ord=2, axis=0)\n",
    "\n",
    "# Construct a diagonal matrix of the column norms\n",
    "D = np.diag(col_norms)\n",
    "\n",
    "# Compute the 2-norm of the original matrix using the singular value decomposition (SVD)\n",
    "svd = np.linalg.svd(A)\n",
    "matrix_norm = svd[1][0]\n",
    "\n",
    "# Print the original matrix and the 2-norm matrix\n",
    "print(\"Original matrix:\")\n",
    "print(A)\n",
    "print(\"2-norm matrix:\")\n",
    "print(D)\n",
    "print(\"2-norm of the original matrix:\")\n",
    "print(matrix_norm)"
   ]
  },
  {
   "cell_type": "code",
   "execution_count": 21,
   "id": "8860bdff-e145-430e-b299-abd670b2d0cf",
   "metadata": {},
   "outputs": [
    {
     "data": {
      "text/plain": [
       "True"
      ]
     },
     "execution_count": 21,
     "metadata": {},
     "output_type": "execute_result"
    }
   ],
   "source": [
    "import cv2\n",
    "import numpy as np\n",
    "\n",
    "# Normalize 2-norm values to range [0, 255]\n",
    "cv2.normalize(matrix_norm, matrix_norm, 0, 255, cv2.NORM_MINMAX)\n",
    "\n",
    "# Binarize 2-norm values\n",
    "_, binarized_img = cv2.threshold(matrix_norm, 128, 255, cv2.THRESH_BINARY)\n",
    "\n",
    "# Save feature image\n",
    "cv2.imwrite('E:/S4/Project/Main Project/images/feature_image.jpg', binarized_img)\n"
   ]
  },
  {
   "cell_type": "code",
   "execution_count": null,
   "id": "0e9547ee-9915-4af3-898b-a88e0dff0cd1",
   "metadata": {},
   "outputs": [],
   "source": []
  }
 ],
 "metadata": {
  "kernelspec": {
   "display_name": "Python 3 (ipykernel)",
   "language": "python",
   "name": "python3"
  },
  "language_info": {
   "codemirror_mode": {
    "name": "ipython",
    "version": 3
   },
   "file_extension": ".py",
   "mimetype": "text/x-python",
   "name": "python",
   "nbconvert_exporter": "python",
   "pygments_lexer": "ipython3",
   "version": "3.9.13"
  }
 },
 "nbformat": 4,
 "nbformat_minor": 5
}
